{
  "nbformat": 4,
  "nbformat_minor": 0,
  "metadata": {
    "colab": {
      "name": "CIFAR10_challenge.ipynb의 사본",
      "provenance": [],
      "collapsed_sections": [],
      "authorship_tag": "ABX9TyOpjssyYzYi8oDeDm7N1C3n",
      "include_colab_link": true
    },
    "kernelspec": {
      "name": "python3",
      "display_name": "Python 3"
    },
    "language_info": {
      "name": "python"
    },
    "accelerator": "GPU"
  },
  "cells": [
    {
      "cell_type": "markdown",
      "metadata": {
        "id": "view-in-github",
        "colab_type": "text"
      },
      "source": [
        "<a href=\"https://colab.research.google.com/github/cheon4050/Ai-DeepLearning/blob/main/CIFAR10_challenge.ipynb\" target=\"_parent\"><img src=\"https://colab.research.google.com/assets/colab-badge.svg\" alt=\"Open In Colab\"/></a>"
      ]
    },
    {
      "cell_type": "code",
      "metadata": {
        "id": "4uBASSndp6R7"
      },
      "source": [
        "import numpy as np\n",
        "import torch\n",
        "import torch.nn as nn\n",
        "import torch.optim as optim\n",
        "import torch.nn.init as init\n",
        "import torchvision.datasets as dset\n",
        "import torchvision.transforms as transforms\n",
        "from torch.utils.data import DataLoader\n",
        "from torch.autograd import Variable\n",
        "import matplotlib.pyplot as plt\n",
        "\n",
        "from torch.optim import lr_scheduler\n",
        "\n",
        "batch_size=16\n",
        "learning_rate=0.001\n",
        "num_epoch=100\n"
      ],
      "execution_count": null,
      "outputs": []
    },
    {
      "cell_type": "code",
      "metadata": {
        "colab": {
          "base_uri": "https://localhost:8080/"
        },
        "id": "ICDSHNz9sHIn",
        "outputId": "cb2490b5-1af7-4700-d0ac-3f40548e095a"
      },
      "source": [
        "cifar_train=dset.CIFAR10(\"CIFAR10/\", train=True, transform=transforms.Compose([\n",
        "                                      transforms.ToTensor(),\n",
        "                                      transforms.Normalize((0.4914, 0.4822, 0.4465), (0.2023, 0.1994, 0.2010))\n",
        "]), target_transform=None, download=True)+dset.CIFAR10(\"CIFAR10/\",train=True,transform=transforms.Compose([\n",
        "                                      transforms.Resize((32,32)),\n",
        "                                      transforms.RandomCrop(32, padding=4),\n",
        "                                      transforms.RandomHorizontalFlip(),\n",
        "                                      transforms.ToTensor(), \n",
        "                                      transforms.Normalize((0.4914, 0.4822, 0.4465), (0.2023, 0.1994, 0.2010)) \n",
        "                                      ]),target_transform=None,download=True)\n",
        "#+dset.CIFAR10(\"CIFAR10/\", train=True, transform=transforms.Compose([transforms.ToTensor(), transforms.Normalize(mean=(0.5,0.5,0.5), std = (0.5,0.5,0.5))]), target_transform=None, download=True)\n",
        "cifar_test=dset.CIFAR10(\"CIFAR10/\", train=False, transform=transforms.Compose([\n",
        "                                      transforms.ToTensor(),\n",
        "                                      transforms.Normalize((0.4914, 0.4822, 0.4465), (0.2023, 0.1994, 0.2010))\n",
        "]),target_transform=None, download=True)"
      ],
      "execution_count": null,
      "outputs": [
        {
          "output_type": "stream",
          "text": [
            "Files already downloaded and verified\n",
            "Files already downloaded and verified\n",
            "Files already downloaded and verified\n"
          ],
          "name": "stdout"
        }
      ]
    },
    {
      "cell_type": "code",
      "metadata": {
        "id": "W1r-e7-Suszb"
      },
      "source": [
        "def ComputeAccr(dloader, imodel):\n",
        "  correct = 0\n",
        "  total = 0\n",
        "  \n",
        "  for j, [imgs, labels] in enumerate(dloader):\n",
        "    img = Variable(imgs,volatile=True).cuda()\n",
        "    label = Variable(labels).cuda()\n",
        "    output = imodel.forward(img)\n",
        "    _, output_index = torch.max(output,1)\n",
        "\n",
        "    total += label.size(0)\n",
        "    correct += (output_index == label).sum().float()\n",
        "  print(\"Accuracy of Test Data: {}\".format(100*correct/total))"
      ],
      "execution_count": null,
      "outputs": []
    },
    {
      "cell_type": "code",
      "metadata": {
        "id": "UNEHNAw1vuIO"
      },
      "source": [
        "train_loader = torch.utils.data.DataLoader(list(cifar_train)[:], batch_size=batch_size, shuffle=True, num_workers=2, drop_last=True)\n",
        "test_loader = torch.utils.data.DataLoader(cifar_test, batch_size=batch_size, shuffle=False, num_workers=2, drop_last=True)\n",
        "class CNN(nn.Module):\n",
        "  def __init__(self):\n",
        "    super(CNN,self).__init__()\n",
        "    self.layer = nn.Sequential(\n",
        "        nn.Conv2d(3,16,3,padding=1),\n",
        "        nn.BatchNorm2d(16),\n",
        "        nn.LeakyReLU(),\n",
        "\n",
        "        nn.Conv2d(16,32,3,padding=1),\n",
        "        nn.BatchNorm2d(32),\n",
        "        nn.LeakyReLU(),\n",
        "        nn.MaxPool2d(2,2),\n",
        "\n",
        "        nn.Conv2d(32,64,3,padding=1),\n",
        "        nn.BatchNorm2d(64),\n",
        "        nn.LeakyReLU(),\n",
        "        nn.MaxPool2d(2,2)\n",
        "    )\n",
        "    self.fc_layer=nn.Sequential(\n",
        "        nn.Linear(64*8*8,100),\n",
        "        nn.BatchNorm1d(100),\n",
        "        nn.ReLU(),\n",
        "        nn.Dropout(0.6),\n",
        "        nn.Linear(100,10),\n",
        "        nn.LogSoftmax(dim=1)\n",
        "    )\n",
        "  def forward(self,x):\n",
        "    out=self.layer(x)\n",
        "    out=out.view(batch_size,-1)\n",
        "    out=self.fc_layer(out)\n",
        "\n",
        "    return out\n",
        "model=CNN().cuda()"
      ],
      "execution_count": null,
      "outputs": []
    },
    {
      "cell_type": "code",
      "metadata": {
        "colab": {
          "base_uri": "https://localhost:8080/"
        },
        "id": "kqIo63ZgxHsu",
        "outputId": "802a1c15-80ef-4382-8e87-c76e52e7a398"
      },
      "source": [
        "loss_func = nn.CrossEntropyLoss()\n",
        "optimizer = torch.optim.Adam(model.parameters(), lr=learning_rate)\n",
        "scheduler = lr_scheduler.StepLR(optimizer, step_size=10, gamma=0.5)\n",
        "for i in range(1):\n",
        "  model.train()\n",
        "  for j, [image,label] in enumerate(train_loader):\n",
        "    x = Variable(image).cuda()\n",
        "    y_=Variable(label).cuda()\n",
        "    optimizer.zero_grad()\n",
        "    output=model.forward(x)\n",
        "    loss=loss_func(output,y_)\n",
        "    loss.backward()\n",
        "    optimizer.step()\n",
        "\n",
        "    if j%1000==0:\n",
        "      print(j,loss)\n",
        "  print(i)  \n",
        "  model.eval()\n",
        "  ComputeAccr(train_loader,model)\n",
        "  ComputeAccr(test_loader,model)"
      ],
      "execution_count": null,
      "outputs": [
        {
          "output_type": "stream",
          "text": [
            "0 tensor(0.4963, device='cuda:0', grad_fn=<NllLossBackward>)\n",
            "1000 tensor(1.3288, device='cuda:0', grad_fn=<NllLossBackward>)\n",
            "2000 tensor(0.6605, device='cuda:0', grad_fn=<NllLossBackward>)\n",
            "3000 tensor(0.7485, device='cuda:0', grad_fn=<NllLossBackward>)\n",
            "4000 tensor(0.5205, device='cuda:0', grad_fn=<NllLossBackward>)\n",
            "5000 tensor(0.9359, device='cuda:0', grad_fn=<NllLossBackward>)\n",
            "6000 tensor(0.4128, device='cuda:0', grad_fn=<NllLossBackward>)\n",
            "0\n"
          ],
          "name": "stdout"
        },
        {
          "output_type": "stream",
          "text": [
            "/usr/local/lib/python3.7/dist-packages/ipykernel_launcher.py:6: UserWarning: volatile was removed and now has no effect. Use `with torch.no_grad():` instead.\n",
            "  \n"
          ],
          "name": "stderr"
        },
        {
          "output_type": "stream",
          "text": [
            "Accuracy of Test Data: 90.43099975585938\n",
            "Accuracy of Test Data: 80.29999542236328\n"
          ],
          "name": "stdout"
        }
      ]
    },
    {
      "cell_type": "code",
      "metadata": {
        "colab": {
          "base_uri": "https://localhost:8080/"
        },
        "id": "4yyUdnZSyhVj",
        "outputId": "b875f1f2-3c81-45ff-992d-cda82eddc866"
      },
      "source": [
        "model.eval()\n",
        "ComputeAccr(test_loader,model)"
      ],
      "execution_count": null,
      "outputs": [
        {
          "output_type": "stream",
          "text": [
            "/usr/local/lib/python3.7/dist-packages/ipykernel_launcher.py:6: UserWarning: volatile was removed and now has no effect. Use `with torch.no_grad():` instead.\n",
            "  \n"
          ],
          "name": "stderr"
        },
        {
          "output_type": "stream",
          "text": [
            "Accuracy of Test Data: 80.29999542236328\n"
          ],
          "name": "stdout"
        }
      ]
    },
    {
      "cell_type": "code",
      "metadata": {
        "id": "pRRKVnsDP1rh"
      },
      "source": [
        "netname = './my_net01.pkl'\n",
        "torch.save(model,netname)"
      ],
      "execution_count": null,
      "outputs": []
    },
    {
      "cell_type": "code",
      "metadata": {
        "id": "-LGLWb9lUYr_"
      },
      "source": [
        ""
      ],
      "execution_count": null,
      "outputs": []
    }
  ]
}